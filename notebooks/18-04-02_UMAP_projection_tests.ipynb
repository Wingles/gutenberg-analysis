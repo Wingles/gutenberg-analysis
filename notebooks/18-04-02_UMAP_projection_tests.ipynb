{
 "cells": [
  {
   "cell_type": "code",
   "execution_count": 329,
   "metadata": {},
   "outputs": [],
   "source": [
    "import numpy as np\n",
    "import pandas as pd\n",
    "import umap\n",
    "from scipy.sparse import dok_matrix\n",
    "import glob\n",
    "import numba\n",
    "import seaborn as sns\n",
    "import matplotlib.pyplot as plt\n",
    "%matplotlib inline"
   ]
  },
  {
   "cell_type": "code",
   "execution_count": 135,
   "metadata": {},
   "outputs": [],
   "source": [
    "def get_w_f(path_to_counts):\n",
    "    \"\"\"\n",
    "    Reads a counts file, returns types and frequencies\n",
    "    \"\"\"\n",
    "    w, c = np.genfromtxt(path_to_counts,dtype=str).T\n",
    "    c = c.astype(int)\n",
    "    L = np.sum(c)\n",
    "    if not isinstance(w,(list,np.ndarray)):\n",
    "        w=[w]\n",
    "        c=[c]\n",
    "    return w, c/L\n"
   ]
  },
  {
   "cell_type": "code",
   "execution_count": 226,
   "metadata": {},
   "outputs": [],
   "source": [
    "paths = glob.glob(\"../../gutenberg/data/counts/PG*\")"
   ]
  },
  {
   "cell_type": "code",
   "execution_count": 227,
   "metadata": {},
   "outputs": [],
   "source": [
    "# get full index"
   ]
  },
  {
   "cell_type": "code",
   "execution_count": 228,
   "metadata": {},
   "outputs": [],
   "source": [
    "W = ! cat ../../gutenberg/data/counts/PG* | awk '{print $1}' | sort | uniq"
   ]
  },
  {
   "cell_type": "code",
   "execution_count": 306,
   "metadata": {},
   "outputs": [],
   "source": [
    "d = 0\n",
    "path = paths[0]\n",
    "w, f = get_w_f(path)\n",
    "M = dok_matrix((len(paths)+1,len(W)))\n",
    "\n",
    "# initialize map from words to integers\n",
    "w_idx = {v:k for k,v in dict(enumerate(W)).items()}\n",
    "\n",
    "# add words to sparse matrix\n",
    "for word,freq in zip(w, f):\n",
    "    M[d,w_idx[word]] = freq\n",
    "    \n",
    "#n_diff_words = max(w_idx.values())"
   ]
  },
  {
   "cell_type": "code",
   "execution_count": 307,
   "metadata": {},
   "outputs": [],
   "source": [
    "for d, path in enumerate(paths[1:],1):\n",
    "    w, f = get_w_f(path)\n",
    "    \n",
    "    # add words to sparse matrix\n",
    "    for word,freq in zip(w, f):\n",
    "        M[d,w_idx[word]] = freq"
   ]
  },
  {
   "cell_type": "code",
   "execution_count": 263,
   "metadata": {},
   "outputs": [],
   "source": [
    "import umap"
   ]
  },
  {
   "cell_type": "code",
   "execution_count": 296,
   "metadata": {},
   "outputs": [],
   "source": [
    "u = umap.UMAP(metric=D_alpha_sparse_csr).fit_transform(MM)"
   ]
  },
  {
   "cell_type": "code",
   "execution_count": 330,
   "metadata": {},
   "outputs": [
    {
     "name": "stderr",
     "output_type": "stream",
     "text": [
      "/Users/fran/anaconda3/lib/python3.6/site-packages/ipykernel_launcher.py:2: FutureWarning: \n",
      "Passing list-likes to .loc or [] with any missing label will raise\n",
      "KeyError in the future, you can use .reindex() as an alternative.\n",
      "\n",
      "See the documentation here:\n",
      "http://pandas.pydata.org/pandas-docs/stable/indexing.html#deprecate-loc-reindex-listlike\n",
      "  \n"
     ]
    }
   ],
   "source": [
    "languages_s = pd.read_table(\"../../gutenberg/.log\", header=None).set_index(0)[1]\n",
    "langs = languages_s.loc[ [path.split(\"/\")[-1].split(\"_\")[0] for path in paths] ].values\n",
    "langs_dict = {v:k for k,v in dict(enumerate(set(langs))).items()}\n",
    "colors = [ sns.color_palette(\"Set1\",n_colors=len(set(langs)))[langs_dict[l]] for l in langs ]"
   ]
  },
  {
   "cell_type": "code",
   "execution_count": 332,
   "metadata": {},
   "outputs": [
    {
     "data": {
      "text/plain": [
       "<matplotlib.collections.PathCollection at 0x1a59599550>"
      ]
     },
     "execution_count": 332,
     "metadata": {},
     "output_type": "execute_result"
    },
    {
     "data": {
      "image/png": "[encoded data removed]",
      "text/plain": [
       "<matplotlib.figure.Figure at 0x1a8e777860>"
      ]
     },
     "metadata": {},
     "output_type": "display_data"
    }
   ],
   "source": [
    "plt.scatter(*u.T, c=colors, s=5)"
   ]
  },
  {
   "cell_type": "code",
   "execution_count": 324,
   "metadata": {},
   "outputs": [],
   "source": []
  },
  {
   "cell_type": "code",
   "execution_count": 279,
   "metadata": {},
   "outputs": [],
   "source": [
    "@numba.njit()\n",
    "def D_alpha_max(H1,H2,pi1,pi2,alpha=1.0):\n",
    "    '''The maximum Jensen-Shanon-divergence of two probability distributions p1 and p2\n",
    "    with entropies H1 and H2 and weights pi1 and pi2.\n",
    "    The maximum jsd is obtained by assuming the support of both distributions is disjunct.\n",
    "    For more information see:\n",
    "    Gerlach, Font-Clos, Altmann, Phys. Rev. X 6 (2016) 021009\n",
    "    https://journals.aps.org/prx/abstract/10.1103/PhysRevX.6.021009\n",
    "\n",
    "    INPUT:\n",
    "    - H1, float, alpha-entropy of p1\n",
    "    - H2, float, alpha-entropy of p2\n",
    "    - pi1, float, weight given to p1\n",
    "    - pi2, float, weight given to p2\n",
    "    optional\n",
    "    - alpha, float (default:1.0)\n",
    "\n",
    "    OUTPUT:\n",
    "    - D_max, float - maximum JSD\n",
    "    '''\n",
    "    D_max = 0.0\n",
    "    if alpha == 1.0:\n",
    "        D_max = -pi1*np.log(pi1)-pi2*np.log(pi2)\n",
    "    else:\n",
    "        D_max = (pi1**alpha-pi1)*H1+\\\n",
    "                (pi2**alpha-pi2)*H2+\\\n",
    "                1.0/(1.0-alpha)*(pi1**alpha+pi2**alpha-1)\n",
    "    return D_max"
   ]
  },
  {
   "cell_type": "code",
   "execution_count": 284,
   "metadata": {},
   "outputs": [],
   "source": [
    "@numba.njit()\n",
    "def H_alpha_sparse_csr(arr_p,alpha=1.0):\n",
    "    '''Calculate generalized entropy of order-alpha\n",
    "        H_{\\alpha}(\\vec{p}) = \\frac{1}{1-\\alpha}( \\sum_i p_i^{\\alpha} - 1  )\n",
    "        https://en.wikipedia.org/wiki/Tsallis_entropy\n",
    "\n",
    "        INPUT:\n",
    "        - arr_p, array (normalized probability distribution)\n",
    "        optional\n",
    "        - alpha, float (default:1.0 == Boltzmann-Shannon-Gibbs entropy)\n",
    "        OUT:\n",
    "        - H_alpha, float\n",
    "\n",
    "        Note that we have to consider special cases \n",
    "        - alpha=0; if p_i=0: p_i^0=0 and p_i>0: p_i^0=1  \n",
    "        - alpha=1; H --> -\\sum_i p_i log(p_i) and 0*log(0) = 0\n",
    "    '''\n",
    "    ## consider only entries with p>0\n",
    "    arr_p_pos = arr_p\n",
    "    H = 0.0\n",
    "    if alpha == 0.0:\n",
    "        H = len(arr_p_pos) - 1\n",
    "    elif alpha == 1.0:\n",
    "        H = -np.sum(arr_p_pos*np.log(arr_p_pos))\n",
    "    else:\n",
    "        H = 1.0/(1.0-alpha)*(np.sum(arr_p_pos**alpha) - 1.0)\n",
    "    return H"
   ]
  },
  {
   "cell_type": "code",
   "execution_count": 285,
   "metadata": {},
   "outputs": [],
   "source": [
    "def D_alpha_sparse_csr(arr_p1,arr_p2,alpha=1.0,pi1=0.5,normalized=False):\n",
    "    '''\n",
    "    Generalized Jensen-Shannon divergence proposed in:\n",
    "        Gerlach, Font-Clos, Altmann, Phys. Rev. X 6 (2016) 021009\n",
    "        https://journals.aps.org/prx/abstract/10.1103/PhysRevX.6.021009\n",
    "\n",
    "    quantifying the divergence between probability distributions p1 and p2\n",
    "\n",
    "    INPUT:\n",
    "    - p1, array  \n",
    "    - p2, array\n",
    "    optional\n",
    "    - alpha, float (default:1)\n",
    "    - pi1, float (default:0.5); weight given to p1 (pi2 = 1-pi1)\n",
    "    - normalized (default:False); if True return normalized version of alpha-JSD\n",
    "\n",
    "    OUTPUT:\n",
    "    - JSD, float\n",
    "\n",
    "    Note that p1 and p2 have to be defined over the SAME support, i.e.\n",
    "    for any index i the probabilities p1[i] and p2[i] refer to the same symbol.\n",
    "    If, for example a symbol j only appears in p1, then p1[j]>0 and p2[j]=0 (and vice versa)\n",
    "    '''\n",
    "\n",
    "    pi2 = 1.0-pi1\n",
    "\n",
    "    H_1 = H_alpha_sparse_csr(arr_p1.data,alpha=alpha)\n",
    "    H_2 = H_alpha_sparse_csr(arr_p2.data,alpha=alpha)\n",
    "    arr_p12 = pi1*arr_p1 + pi2*arr_p2\n",
    "    H_12 = H_alpha_sparse_csr(arr_p12.data,alpha=alpha)\n",
    "\n",
    "    D = H_12 - pi1*H_1 - pi2*H_2\n",
    "\n",
    "    if normalized == False:\n",
    "        norm = 1.0\n",
    "    else:\n",
    "        norm = D_alpha_max(H_1,H_2,pi1,pi2,alpha=alpha)\n",
    "    D /= norm\n",
    "    return D"
   ]
  },
  {
   "cell_type": "code",
   "execution_count": null,
   "metadata": {},
   "outputs": [],
   "source": []
  }
 ],
 "metadata": {
  "kernelspec": {
   "display_name": "Python 3",
   "language": "python",
   "name": "python3"
  },
  "language_info": {
   "codemirror_mode": {
    "name": "ipython",
    "version": 3
   },
   "file_extension": ".py",
   "mimetype": "text/x-python",
   "name": "python",
   "nbconvert_exporter": "python",
   "pygments_lexer": "ipython3",
   "version": "3.6.4"
  }
 },
 "nbformat": 4,
 "nbformat_minor": 2
}
