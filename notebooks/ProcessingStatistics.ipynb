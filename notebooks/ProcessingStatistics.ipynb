{
 "cells": [
  {
   "cell_type": "code",
   "execution_count": 56,
   "metadata": {},
   "outputs": [],
   "source": [
    "import pandas as pd\n",
    "from os.path import join\n",
    "import glob\n",
    "\n",
    "import matplotlib.pyplot as plt\n",
    "%matplotlib inline"
   ]
  },
  {
   "cell_type": "markdown",
   "metadata": {},
   "source": [
    "### Load the log file\n",
    "Due to reprocessing, some entries are duplicated"
   ]
  },
  {
   "cell_type": "code",
   "execution_count": 29,
   "metadata": {},
   "outputs": [],
   "source": [
    "df = pd.read_table(\"../../gutenberg/.log\", names=[\"PGcode\", \"tokenizer\", \"lines_before\", \"lines_after\", \"tokens\", \"types\"])\n",
    "df.drop_duplicates(inplace=True)"
   ]
  },
  {
   "cell_type": "code",
   "execution_count": 30,
   "metadata": {},
   "outputs": [
    {
     "data": {
      "text/html": [
       "<div>\n",
       "<style scoped>\n",
       "    .dataframe tbody tr th:only-of-type {\n",
       "        vertical-align: middle;\n",
       "    }\n",
       "\n",
       "    .dataframe tbody tr th {\n",
       "        vertical-align: top;\n",
       "    }\n",
       "\n",
       "    .dataframe thead th {\n",
       "        text-align: right;\n",
       "    }\n",
       "</style>\n",
       "<table border=\"1\" class=\"dataframe\">\n",
       "  <thead>\n",
       "    <tr style=\"text-align: right;\">\n",
       "      <th></th>\n",
       "      <th>PGcode</th>\n",
       "      <th>tokenizer</th>\n",
       "      <th>lines_before</th>\n",
       "      <th>lines_after</th>\n",
       "      <th>tokens</th>\n",
       "      <th>types</th>\n",
       "    </tr>\n",
       "  </thead>\n",
       "  <tbody>\n",
       "    <tr>\n",
       "      <th>0</th>\n",
       "      <td>PG51647</td>\n",
       "      <td>finnish</td>\n",
       "      <td>7674</td>\n",
       "      <td>7289</td>\n",
       "      <td>41136</td>\n",
       "      <td>12657</td>\n",
       "    </tr>\n",
       "    <tr>\n",
       "      <th>1</th>\n",
       "      <td>PG45792</td>\n",
       "      <td>english</td>\n",
       "      <td>20520</td>\n",
       "      <td>20133</td>\n",
       "      <td>175389</td>\n",
       "      <td>9046</td>\n",
       "    </tr>\n",
       "    <tr>\n",
       "      <th>2</th>\n",
       "      <td>PG45992</td>\n",
       "      <td>english</td>\n",
       "      <td>5440</td>\n",
       "      <td>5051</td>\n",
       "      <td>41326</td>\n",
       "      <td>4922</td>\n",
       "    </tr>\n",
       "    <tr>\n",
       "      <th>3</th>\n",
       "      <td>PG46531</td>\n",
       "      <td>english</td>\n",
       "      <td>28179</td>\n",
       "      <td>27792</td>\n",
       "      <td>224357</td>\n",
       "      <td>11913</td>\n",
       "    </tr>\n",
       "    <tr>\n",
       "      <th>4</th>\n",
       "      <td>PG9575</td>\n",
       "      <td>english</td>\n",
       "      <td>3389</td>\n",
       "      <td>3027</td>\n",
       "      <td>17170</td>\n",
       "      <td>3628</td>\n",
       "    </tr>\n",
       "  </tbody>\n",
       "</table>\n",
       "</div>"
      ],
      "text/plain": [
       "    PGcode tokenizer  lines_before  lines_after  tokens  types\n",
       "0  PG51647   finnish          7674         7289   41136  12657\n",
       "1  PG45792   english         20520        20133  175389   9046\n",
       "2  PG45992   english          5440         5051   41326   4922\n",
       "3  PG46531   english         28179        27792  224357  11913\n",
       "4   PG9575   english          3389         3027   17170   3628"
      ]
     },
     "execution_count": 30,
     "metadata": {},
     "output_type": "execute_result"
    }
   ],
   "source": [
    "df.head()"
   ]
  },
  {
   "cell_type": "code",
   "execution_count": 31,
   "metadata": {},
   "outputs": [
    {
     "name": "stdout",
     "output_type": "stream",
     "text": [
      "55658\n"
     ]
    }
   ],
   "source": [
    "print(len(df))"
   ]
  },
  {
   "cell_type": "markdown",
   "metadata": {},
   "source": [
    "At the moment I have 55K PG books in the `.log` file. Let us compare with the actual files:"
   ]
  },
  {
   "cell_type": "code",
   "execution_count": 32,
   "metadata": {},
   "outputs": [],
   "source": [
    "gutenberg_dir = \"../../gutenberg/\""
   ]
  },
  {
   "cell_type": "code",
   "execution_count": 37,
   "metadata": {},
   "outputs": [
    {
     "name": "stdout",
     "output_type": "stream",
     "text": [
      "raw: 55755 files\n",
      "text: 55658 files\n",
      "tokens: 55658 files\n",
      "counts: 55658 files\n"
     ]
    }
   ],
   "source": [
    "for folder in [\"raw\", \"text\", \"tokens\", \"counts\"]:\n",
    "    print(f\"{folder}: %d files\" % len(glob.glob(join(gutenberg_dir, \"data\", folder, f\"PG*_{folder}.txt\"))))"
   ]
  },
  {
   "cell_type": "markdown",
   "metadata": {},
   "source": [
    "So there are 55755-55758 = 97 books lost at some point. When?"
   ]
  },
  {
   "cell_type": "code",
   "execution_count": 45,
   "metadata": {},
   "outputs": [
    {
     "name": "stdout",
     "output_type": "stream",
     "text": [
      "# WARNING: cannot process 'data/raw/PG44402_raw.txt'\n",
      "# WARNING: cannot process 'data/raw/PG51970_raw.txt'\n",
      "# WARNING: cannot process 'data/raw/PG1344_raw.txt'\n",
      "# WARNING: cannot process 'data/raw/PG38507_raw.txt'\n",
      "# WARNING: cannot process 'data/raw/PG3926_raw.txt'\n",
      "# WARNING: cannot process 'data/raw/PG24895_raw.txt'\n",
      "# WARNING: cannot process 'data/raw/PG4936_raw.txt'\n",
      "# WARNING: cannot process 'data/raw/PG29758_raw.txt'\n",
      "# WARNING: cannot process 'data/raw/PG7684_raw.txt'\n",
      "# WARNING: cannot process 'data/raw/PG55700_raw.txt'\n"
     ]
    }
   ],
   "source": [
    "! cd ../../gutenberg; python process_data.py | head"
   ]
  },
  {
   "cell_type": "code",
   "execution_count": 48,
   "metadata": {},
   "outputs": [
    {
     "name": "stdout",
     "output_type": "stream",
     "text": [
      "97\n"
     ]
    }
   ],
   "source": [
    "! cd ../../gutenberg; python process_data.py | wc -l"
   ]
  },
  {
   "cell_type": "markdown",
   "metadata": {},
   "source": [
    "So everything is good! We know it is an encoding problem. 97/55758 = 0.17 % is very very low! "
   ]
  },
  {
   "cell_type": "code",
   "execution_count": 50,
   "metadata": {},
   "outputs": [
    {
     "data": {
      "text/plain": [
       "0.0017396606764948528"
      ]
     },
     "execution_count": 50,
     "metadata": {},
     "output_type": "execute_result"
    }
   ],
   "source": [
    "97/55758"
   ]
  },
  {
   "cell_type": "code",
   "execution_count": 52,
   "metadata": {},
   "outputs": [],
   "source": [
    "cutlines = (df.lines_before-df.lines_after)"
   ]
  },
  {
   "cell_type": "code",
   "execution_count": 62,
   "metadata": {},
   "outputs": [
    {
     "data": {
      "text/plain": [
       "[<matplotlib.lines.Line2D at 0x7fbd50480278>]"
      ]
     },
     "execution_count": 62,
     "metadata": {},
     "output_type": "execute_result"
    },
    {
     "data": {
      "image/png": "[encoded data removed]",
      "text/plain": [
       "<matplotlib.figure.Figure at 0x7fbd50831f60>"
      ]
     },
     "metadata": {},
     "output_type": "display_data"
    }
   ],
   "source": [
    "plt.loglog(df.tokens, cutlines, \".\")"
   ]
  },
  {
   "cell_type": "code",
   "execution_count": null,
   "metadata": {},
   "outputs": [],
   "source": []
  }
 ],
 "metadata": {
  "kernelspec": {
   "display_name": "Python [default]",
   "language": "python",
   "name": "python3"
  },
  "language_info": {
   "codemirror_mode": {
    "name": "ipython",
    "version": 3
   },
   "file_extension": ".py",
   "mimetype": "text/x-python",
   "name": "python",
   "nbconvert_exporter": "python",
   "pygments_lexer": "ipython3",
   "version": "3.6.4"
  }
 },
 "nbformat": 4,
 "nbformat_minor": 2
}
